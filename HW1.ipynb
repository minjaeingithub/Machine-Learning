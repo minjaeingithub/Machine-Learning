{
 "cells": [
  {
   "cell_type": "code",
   "execution_count": 2,
   "metadata": {},
   "outputs": [],
   "source": [
    "import numpy as np\n",
    "import pandas as pd\n",
    "import matplotlib.pyplot as plt\n",
    "from math import sqrt"
   ]
  },
  {
   "cell_type": "code",
   "execution_count": 55,
   "metadata": {},
   "outputs": [],
   "source": [
    "#Preprocessing train.csv\n",
    "data = pd.read_csv('train.csv')\n",
    "\n",
    "#B. feature elimination\n",
    "newData = data.drop(['Name', 'PassengerId', 'Ticket', 'Cabin'],axis=1)\n",
    "\n",
    "#A. Train-Test data split\n",
    "def train_test_split(dataset):\n",
    "    training_data = dataset.iloc[:600].reset_index(drop=True)\n",
    "    testing_data = dataset.iloc[600:].reset_index(drop=True)\n",
    "    return training_data,testing_data\n",
    "\n",
    "training_data = train_test_split(newData)[0]\n",
    "testing_data = train_test_split(newData)[1]\n",
    "\n",
    "\n",
    "#C. Remove data with missing values from training & test data\n",
    "train_data = pd.DataFrame(training_data)\n",
    "train_data.dropna(inplace=True)\n",
    "test_data = pd.DataFrame(testing_data)\n",
    "test_data.dropna(inplace=True)\n"
   ]
  }
 ],
 "metadata": {
  "interpreter": {
   "hash": "e279a5a2dd61cf9b69d2d0d74bba88eaf92b8e653fd501d8be264e56680debd6"
  },
  "kernelspec": {
   "display_name": "Python 3.10.2 ('model01')",
   "language": "python",
   "name": "python3"
  },
  "language_info": {
   "codemirror_mode": {
    "name": "ipython",
    "version": 3
   },
   "file_extension": ".py",
   "mimetype": "text/x-python",
   "name": "python",
   "nbconvert_exporter": "python",
   "pygments_lexer": "ipython3",
   "version": "3.10.2"
  },
  "orig_nbformat": 4
 },
 "nbformat": 4,
 "nbformat_minor": 2
}
