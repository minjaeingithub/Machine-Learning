{
 "cells": [
  {
   "cell_type": "code",
   "execution_count": 1,
   "metadata": {},
   "outputs": [],
   "source": [
    "import numpy as np\n",
    "import pandas as pd\n",
    "import matplotlib.pyplot as plt\n",
    "from math import sqrt"
   ]
  },
  {
   "cell_type": "code",
   "execution_count": 46,
   "metadata": {},
   "outputs": [],
   "source": [
    "#Preprocessing train.csv\n",
    "data = pd.read_csv('train.csv')\n",
    "\n",
    "#B. feature elimination\n",
    "newData = data.drop(['Name', 'PassengerId', 'Ticket', 'Cabin', 'Embarked'],axis=1)\n",
    "\n",
    "#A. Train-Test data split\n",
    "def train_test_split(dataset):\n",
    "    training_data = dataset.iloc[:600].reset_index(drop=True)\n",
    "    testing_data = dataset.iloc[600:].reset_index(drop=True)\n",
    "    return training_data,testing_data\n",
    "\n",
    "training_data = train_test_split(newData)[0]\n",
    "testing_data = train_test_split(newData)[1]\n",
    "\n",
    "\n",
    "#C. Remove data with missing values from training & test data\n",
    "train_data = pd.DataFrame(training_data)\n",
    "train_data.dropna(inplace=True)\n",
    "test_data = pd.DataFrame(testing_data)\n",
    "test_data.dropna(inplace=True)"
   ]
  },
  {
   "cell_type": "code",
   "execution_count": 57,
   "metadata": {},
   "outputs": [],
   "source": [
    "# Change into numerical value\n",
    "dfCompile = [train_data, test_data]\n",
    "\n",
    "# for dataset in dfCompile:\n",
    "#     dataset['Sex'] = dataset['Sex'].map({'male': 0, 'female' : 1}).astype(int)\n",
    "    \n",
    "for dataset in dfCompile:    \n",
    "    dataset.loc[ dataset['Age'] <= 16, 'Age'] = 0\n",
    "    dataset.loc[(dataset['Age'] > 16) & (dataset['Age'] <= 32), 'Age'] = 1\n",
    "    dataset.loc[(dataset['Age'] > 32) & (dataset['Age'] <= 48), 'Age'] = 2\n",
    "    dataset.loc[(dataset['Age'] > 48) & (dataset['Age'] <= 64), 'Age'] = 3\n",
    "    dataset.loc[ dataset['Age'] > 64, 'Age']\n",
    "\n",
    "for dataset in dfCompile:\n",
    "    dataset[\"Age\"] = dataset.groupby(dataset.Pclass).Age.transform(lambda x: x.fillna(x.median()))"
   ]
  },
  {
   "cell_type": "code",
   "execution_count": 65,
   "metadata": {},
   "outputs": [],
   "source": [
    "X_train = train_data.drop([\"Survived\"], axis=1)  #remove the label to be predicted by KNN\n",
    "Y_train = train_data[\"Survived\"]\n",
    "X_test  = test_data.drop([\"Survived\"], axis=1)\n",
    "\n",
    "#K-Nearest Neighbors(KNN)\n",
    "from sklearn.neighbors import KNeighborsClassifier\n",
    "\n",
    "score = []\n",
    "for i in range(2,6):\n",
    "    knn = KNeighborsClassifier(n_neighbors=i, weights=\"distance\", metric=\"euclidean\")\n",
    "    knn.fit(X_train, Y_train)\n",
    "    y_predict = knn.predict(X_test)\n",
    "    accuracy = round(knn.score(X_train, Y_train) * 100, 2)\n",
    "    score.append(accuracy)"
   ]
  },
  {
   "cell_type": "code",
   "execution_count": 67,
   "metadata": {},
   "outputs": [
    {
     "data": {
      "text/plain": [
       "[89.87, 91.56, 91.56, 91.56]"
      ]
     },
     "execution_count": 67,
     "metadata": {},
     "output_type": "execute_result"
    }
   ],
   "source": [
    "score"
   ]
  }
 ],
 "metadata": {
  "interpreter": {
   "hash": "e279a5a2dd61cf9b69d2d0d74bba88eaf92b8e653fd501d8be264e56680debd6"
  },
  "kernelspec": {
   "display_name": "Python 3.10.2 ('model01')",
   "language": "python",
   "name": "python3"
  },
  "language_info": {
   "codemirror_mode": {
    "name": "ipython",
    "version": 3
   },
   "file_extension": ".py",
   "mimetype": "text/x-python",
   "name": "python",
   "nbconvert_exporter": "python",
   "pygments_lexer": "ipython3",
   "version": "3.10.2"
  },
  "orig_nbformat": 4
 },
 "nbformat": 4,
 "nbformat_minor": 2
}
