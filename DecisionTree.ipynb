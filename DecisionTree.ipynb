{
 "cells": [
  {
   "cell_type": "code",
   "execution_count": 1,
   "id": "dominant-journalism",
   "metadata": {},
   "outputs": [],
   "source": [
    "import pandas as pd\n",
    "import numpy as np\n",
    "from pprint import pprint #prettier print\n",
    "#import sklearn.tree.DecisionTreeClassifier <-simply import class"
   ]
  },
  {
   "cell_type": "code",
   "execution_count": 2,
   "id": "fatty-company",
   "metadata": {},
   "outputs": [],
   "source": [
    "dataset = pd.read_csv('zoo.data',\n",
    "                      names=['animal_name','hair','feathers','eggs','milk',\n",
    "                                                   'airbone','aquatic','predator','toothed','backbone',\n",
    "                                                  'breathes','venomous','fins','legs','tail','domestic','catsize','class',])"
   ]
  },
  {
   "cell_type": "code",
   "execution_count": 3,
   "id": "employed-sapphire",
   "metadata": {},
   "outputs": [],
   "source": [
    "dataset = dataset.drop('animal_name',axis=1) #dropping first column"
   ]
  },
  {
   "cell_type": "code",
   "execution_count": 4,
   "id": "round-outside",
   "metadata": {},
   "outputs": [
    {
     "name": "stdout",
     "output_type": "stream",
     "text": [
      "     hair  feathers  eggs  milk  airbone  aquatic  predator  toothed  \\\n",
      "0       1         0     0     1        0        0         1        1   \n",
      "1       1         0     0     1        0        0         0        1   \n",
      "2       0         0     1     0        0        1         1        1   \n",
      "3       1         0     0     1        0        0         1        1   \n",
      "4       1         0     0     1        0        0         1        1   \n",
      "..    ...       ...   ...   ...      ...      ...       ...      ...   \n",
      "96      1         0     0     1        0        0         0        1   \n",
      "97      1         0     1     0        1        0         0        0   \n",
      "98      1         0     0     1        0        0         1        1   \n",
      "99      0         0     1     0        0        0         0        0   \n",
      "100     0         1     1     0        1        0         0        0   \n",
      "\n",
      "     backbone  breathes  venomous  fins  legs  tail  domestic  catsize  class  \n",
      "0           1         1         0     0     4     0         0        1      1  \n",
      "1           1         1         0     0     4     1         0        1      1  \n",
      "2           1         0         0     1     0     1         0        0      4  \n",
      "3           1         1         0     0     4     0         0        1      1  \n",
      "4           1         1         0     0     4     1         0        1      1  \n",
      "..        ...       ...       ...   ...   ...   ...       ...      ...    ...  \n",
      "96          1         1         0     0     2     1         0        1      1  \n",
      "97          0         1         1     0     6     0         0        0      6  \n",
      "98          1         1         0     0     4     1         0        1      1  \n",
      "99          0         1         0     0     0     0         0        0      7  \n",
      "100         1         1         0     0     2     1         0        0      2  \n",
      "\n",
      "[101 rows x 17 columns]\n"
     ]
    }
   ],
   "source": [
    "print(dataset)"
   ]
  },
  {
   "cell_type": "code",
   "execution_count": 5,
   "id": "bound-precipitation",
   "metadata": {},
   "outputs": [],
   "source": [
    "#calculating entropy(impurity)\n",
    "def entropy(target_col):\n",
    "    elements, counts = np.unique(target_col,return_counts = True) \n",
    "    #elements: name of classes; if class={a,b}, elements[0]=a, elements[1]=b\n",
    "    entropy = np.sum([(-counts[i]/np.sum(counts))*np.log2(counts[i]/np.sum(counts)) for i in range(len(elements))]) # class={a,b}, elements[0]=a, elements[1]=b\n",
    "    #(-counts[i]/np.sum(counts): probability of classes\n",
    "    return entropy"
   ]
  },
  {
   "cell_type": "code",
   "execution_count": 6,
   "id": "baking-literature",
   "metadata": {},
   "outputs": [],
   "source": [
    "def InfoGain(data,split_attribute_name,target_name=\"class\"):\n",
    "    #Calculate the entropy of the total dataset\n",
    "    total_entropy = entropy(data[target_name])\n",
    "    \n",
    "    ##Calculate the entropy of the dataset\n",
    "    \n",
    "    #Calculate the values and the corresponding counts for the split attribute \n",
    "    vals, counts= np.unique(data[split_attribute_name], return_counts=True)\n",
    "    \n",
    "    #Calculate the weighted entropy\n",
    "    Weighted_Entropy = np.sum([(counts[i]/np.sum(counts))*entropy(data.where(data[split_attribute_name]==vals[i]).dropna()[target_name]) for i in range(len(vals))])\n",
    "    \n",
    "    #Calculate the information gain\n",
    "    Information_Gain = total_entropy - Weighted_Entropy\n",
    "    return Information_Gain"
   ]
  },
  {
   "cell_type": "code",
   "execution_count": 7,
   "id": "august-comedy",
   "metadata": {},
   "outputs": [],
   "source": [
    "def ID3(data,originaldata,features,target_attribute_name=\"class\",parent_node_class = None):\n",
    "    #Define the stopping criteria --> If one of this is satisfied, we want to return a leaf node#\n",
    "    \n",
    "    #If all target_values have the same value(e.g. if all the labels are 0,len(class)will be 1) return this value\n",
    "    if len(np.unique(data[target_attribute_name])) <= 1:\n",
    "        return np.unique(data[target_attribute_name])[0]\n",
    "    \n",
    "    #If the dataset is empty, return the mode target feature value in the original dataset\n",
    "    elif len(data)==0:\n",
    "        return np.unique(originaldata[target_attribute_name])[np.argmax(np.unique(originaldata[target_attribute_name],return_counts=True)[1])]\n",
    "    \n",
    "    #If the feature space is empty, return the mode target feature value of the direct parent node --> Note that\n",
    "    #the direct parent node is that node which has called the current run of the ID3 algorithm and hence\n",
    "    #the mode target feature value is stored in the parent_node_class variable.\n",
    "    \n",
    "    elif len(features) ==0:\n",
    "        return parent_node_class\n",
    "    \n",
    "    #If none of the above holds true, grow the tree!\n",
    "    \n",
    "    else:\n",
    "        #Set the default value for this node --> The mode target feature value of the current node\n",
    "        parent_node_class = np.unique(data[target_attribute_name])[np.argmax(np.unique(data[target_attribute_name],return_counts=True)[1])]\n",
    "        \n",
    "        #Select the feature which best splits the dataset\n",
    "        item_values = [InfoGain(data,feature,target_attribute_name) for feature in features] #Return the information gain values for the features in the dataset\n",
    "        best_feature_index = np.argmax(item_values)\n",
    "        best_feature = features[best_feature_index]\n",
    "        \n",
    "        #Create the tree structure. The root gets the name of the feature (best_feature) with the maximum information\n",
    "        #gain in the first run\n",
    "        tree = {best_feature:{}} #dictionary\n",
    "        \n",
    "        \n",
    "        #Remove the feature with the best inforamtion gain from the feature space\n",
    "        features = [i for i in features if i != best_feature]\n",
    "        \n",
    "        #Grow a branch under the root node for each possible value of the root node feature\n",
    "        \n",
    "        for value in np.unique(data[best_feature]):\n",
    "            value = value\n",
    "            #Split the dataset along the value of the feature with the largest information gain and therwith create sub_datasets\n",
    "            sub_data = data.where(data[best_feature] == value).dropna()\n",
    "            \n",
    "            #Call the ID3 algorithm for each of those sub_datasets with the new parameters --> Here the recursion comes in!\n",
    "            subtree = ID3(sub_data, dataset, features, target_attribute_name, parent_node_class)\n",
    "            \n",
    "            #Add the sub tree, grown from the sub_dataset to the tree under the root node\n",
    "            tree[best_feature][value] = subtree\n",
    "            \n",
    "        return(tree)"
   ]
  },
  {
   "cell_type": "code",
   "execution_count": 8,
   "id": "neural-commissioner",
   "metadata": {},
   "outputs": [],
   "source": [
    "def predict(query, tree, default = 1):\n",
    "    \"\"\"\n",
    "    Prediction of a new/unseen query instance. This takes two parameters:\n",
    "    1. The query instance as a dictionary of the shape {\"feature_name\":feature_value,...}\n",
    "    2. The tree \n",
    "    \"\"\"\n",
    "    \n",
    "    for key in list(query.keys()):\n",
    "        if key in list(tree.keys()):\n",
    "            try:\n",
    "                result = tree[key][query[key]] \n",
    "            except:\n",
    "                return default\n",
    "            \n",
    "            result = tree[key][query[key]]\n",
    "            \n",
    "            if isinstance(result,dict):\n",
    "                return predict(query,result)\n",
    "\n",
    "            else:\n",
    "                return result"
   ]
  },
  {
   "cell_type": "code",
   "execution_count": 9,
   "id": "built-adelaide",
   "metadata": {},
   "outputs": [],
   "source": [
    "def train_test_split(dataset):\n",
    "    training_data = dataset.iloc[:80].reset_index(drop=True)#We drop the index respectively relabel the index\n",
    "    #starting form 0, because we do not want to run into errors regarding the row labels / indexes\n",
    "    testing_data = dataset.iloc[80:].reset_index(drop=True)\n",
    "    return training_data,testing_data"
   ]
  },
  {
   "cell_type": "code",
   "execution_count": 10,
   "id": "maritime-company",
   "metadata": {},
   "outputs": [],
   "source": [
    "training_data = train_test_split(dataset)[0]\n",
    "testing_data = train_test_split(dataset)[1] "
   ]
  },
  {
   "cell_type": "code",
   "execution_count": 11,
   "id": "mounted-measurement",
   "metadata": {},
   "outputs": [],
   "source": [
    "def test(data,tree):\n",
    "    #Create new query instances by simply removing the target feature column from the original dataset and \n",
    "    #convert it to a dictionary\n",
    "    queries = data.iloc[:,:-1].to_dict(orient = \"records\")\n",
    "    \n",
    "    #Create a empty DataFrame in whose columns the prediction of the tree are stored\n",
    "    predicted = pd.DataFrame(columns=[\"predicted\"]) \n",
    "    \n",
    "    #Calculate the prediction accuracy\n",
    "    for i in range(len(data)):\n",
    "        predicted.loc[i,\"predicted\"] = predict(queries[i],tree,1.0) \n",
    "    print('The prediction accuracy is: ',(np.sum(predicted[\"predicted\"] == data[\"class\"])/len(data))*100,'%')"
   ]
  },
  {
   "cell_type": "code",
   "execution_count": 12,
   "id": "threaded-louisiana",
   "metadata": {},
   "outputs": [],
   "source": [
    "tree = ID3(training_data,training_data,training_data.columns[:-1])"
   ]
  },
  {
   "cell_type": "code",
   "execution_count": 13,
   "id": "respiratory-academy",
   "metadata": {},
   "outputs": [
    {
     "name": "stdout",
     "output_type": "stream",
     "text": [
      "{'legs': {0: {'fins': {0.0: {'toothed': {0.0: 7.0, 1.0: 3.0}},\n",
      "                       1.0: {'eggs': {0.0: 1.0, 1.0: 4.0}}}},\n",
      "          2: {'hair': {0.0: 2.0, 1.0: 1.0}},\n",
      "          4: {'hair': {0.0: {'toothed': {0.0: 7.0, 1.0: 5.0}}, 1.0: 1.0}},\n",
      "          6: {'aquatic': {0.0: 6.0, 1.0: 7.0}},\n",
      "          8: 7.0}}\n"
     ]
    }
   ],
   "source": [
    "pprint(tree)"
   ]
  },
  {
   "cell_type": "code",
   "execution_count": 14,
   "id": "qualified-pillow",
   "metadata": {},
   "outputs": [
    {
     "name": "stdout",
     "output_type": "stream",
     "text": [
      "The prediction accuracy is:  85.71428571428571 %\n"
     ]
    }
   ],
   "source": [
    "test(testing_data,tree)"
   ]
  }
 ],
 "metadata": {
  "kernelspec": {
   "display_name": "Python 3 (ipykernel)",
   "language": "python",
   "name": "python3"
  },
  "language_info": {
   "codemirror_mode": {
    "name": "ipython",
    "version": 3
   },
   "file_extension": ".py",
   "mimetype": "text/x-python",
   "name": "python",
   "nbconvert_exporter": "python",
   "pygments_lexer": "ipython3",
   "version": "3.9.7"
  }
 },
 "nbformat": 4,
 "nbformat_minor": 5
}
